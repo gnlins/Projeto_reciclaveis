{
 "cells": [
  {
   "cell_type": "markdown",
   "metadata": {},
   "source": [
    "# Projeto Visualização de dados de Resíduos Reciclados no Brasil"
   ]
  },
  {
   "cell_type": "markdown",
   "metadata": {},
   "source": [
    "Este projeto foi desenvolvido por [Gustavo Lins](https://github.com/gnlins/Projeto_reciclaveis) com a intenção de aprimorar seus conhecimentos em análise de dados. \n",
    "\n",
    "O Dataset utilizado  foi o da relação das pessoas jurídicas que entregaram o Relatório de Atividades Potencialmente Poluidoras (RAPP) referente ao formulário Produtos Reciclados.\n",
    "\n",
    "Esse formulário esteve em vigência entre os anos 2006 e 2013 e recolhe informações sobre Produtos Reciclados – tais como:\n",
    "- tratamento e destinação de resíduos industriais líquidos e sólidos; \n",
    "- disposição de resíduos especiais;\n",
    "- destinação de resíduos de esgotos sanitários e de resíduos sólidos urbanos, inclusive aqueles provenientes de fossas; \n",
    "- tratamento e destinação de resíduos industriais líquidos e sólidos; \n",
    "- destinação de pilhas e baterias.\n",
    "\n",
    "Dataset está disponível [aqui](http://www.dados.gov.br/dataset/produtos-reciclados/resource/72a96394-72f9-4d19-ac5a-ab28bbfab2e2?inner_span=True)."
   ]
  },
  {
   "cell_type": "markdown",
   "metadata": {},
   "source": [
    "# 1. Importando bibliotecas e acessando o Dataset"
   ]
  },
  {
   "cell_type": "code",
   "execution_count": 2,
   "metadata": {},
   "outputs": [],
   "source": [
    "import numpy as np\n",
    "import pandas as pd\n",
    "import seaborn as sns\n",
    "import matplotlib.pyplot as plt"
   ]
  },
  {
   "cell_type": "code",
   "execution_count": 3,
   "metadata": {},
   "outputs": [],
   "source": [
    "url = 'http://dadosabertos.ibama.gov.br/dados/RAPP/produtosReciclados/relatorio.csv'\n",
    "rel = pd.read_csv(url, sep=';')"
   ]
  },
  {
   "cell_type": "code",
   "execution_count": 5,
   "metadata": {},
   "outputs": [
    {
     "data": {
      "text/html": [
       "<div>\n",
       "<style scoped>\n",
       "    .dataframe tbody tr th:only-of-type {\n",
       "        vertical-align: middle;\n",
       "    }\n",
       "\n",
       "    .dataframe tbody tr th {\n",
       "        vertical-align: top;\n",
       "    }\n",
       "\n",
       "    .dataframe thead th {\n",
       "        text-align: right;\n",
       "    }\n",
       "</style>\n",
       "<table border=\"1\" class=\"dataframe\">\n",
       "  <thead>\n",
       "    <tr style=\"text-align: right;\">\n",
       "      <th></th>\n",
       "      <th>CNPJ</th>\n",
       "      <th>Razão Social</th>\n",
       "      <th>Estado</th>\n",
       "      <th>Município</th>\n",
       "      <th>Ano</th>\n",
       "      <th>Tipo de Resíduo</th>\n",
       "      <th>Método de Reciclagem</th>\n",
       "      <th>Quantidade</th>\n",
       "      <th>Unidade de Medida</th>\n",
       "      <th>Empresa Destinadora do Resíduo</th>\n",
       "      <th>Situação Cadastral</th>\n",
       "    </tr>\n",
       "  </thead>\n",
       "  <tbody>\n",
       "    <tr>\n",
       "      <th>0</th>\n",
       "      <td>00.024.376/0001-36</td>\n",
       "      <td>IDEAL COMERCIO DE TAMBORES LTDA</td>\n",
       "      <td>SAO PAULO</td>\n",
       "      <td>GUARULHOS</td>\n",
       "      <td>2004</td>\n",
       "      <td>Resíduo inflamável (resinas, etc)</td>\n",
       "      <td>Queima em formos industriais</td>\n",
       "      <td>1</td>\n",
       "      <td>kilogramas</td>\n",
       "      <td>40.263.170/0008-50 - ESSENCIS SOLUÇÕES AMBIENT...</td>\n",
       "      <td>Ativa</td>\n",
       "    </tr>\n",
       "  </tbody>\n",
       "</table>\n",
       "</div>"
      ],
      "text/plain": [
       "                 CNPJ                     Razão Social     Estado  Município  \\\n",
       "0  00.024.376/0001-36  IDEAL COMERCIO DE TAMBORES LTDA  SAO PAULO  GUARULHOS   \n",
       "\n",
       "    Ano                    Tipo de Resíduo          Método de Reciclagem  \\\n",
       "0  2004  Resíduo inflamável (resinas, etc)  Queima em formos industriais   \n",
       "\n",
       "  Quantidade Unidade de Medida  \\\n",
       "0          1        kilogramas   \n",
       "\n",
       "                      Empresa Destinadora do Resíduo Situação Cadastral  \n",
       "0  40.263.170/0008-50 - ESSENCIS SOLUÇÕES AMBIENT...              Ativa  "
      ]
     },
     "execution_count": 5,
     "metadata": {},
     "output_type": "execute_result"
    }
   ],
   "source": [
    "rel.head(1)"
   ]
  },
  {
   "cell_type": "code",
   "execution_count": 7,
   "metadata": {},
   "outputs": [],
   "source": [
    "UF_dict = {\n",
    "    'AC': 'Acre',\n",
    "    'AL': 'Alagoas',\n",
    "    'AP': 'Amapá',\n",
    "    'AM': 'Amazonas',\n",
    "    'BA': 'Bahia',\n",
    "    'CE': 'Ceará',\n",
    "    'DF': 'Distrito Federal',\n",
    "    'ES': 'Espírito Santo',\n",
    "    'GO': 'Goiás',\n",
    "    'MA': 'Maranhão',\n",
    "    'MT': 'Mato Grosso',\n",
    "    'MS': 'Mato Grosso do Sul',\n",
    "    'MG': 'Minas Gerais',\n",
    "    'PA': 'Pará',\n",
    "    'PB': 'Paraíba',\n",
    "    'PR': 'Paraná',\n",
    "    'PE': 'Pernambuco',\n",
    "    'PI': 'Piauí',\n",
    "    'RJ': 'Rio de Janeiro',\n",
    "    'RN': 'Rio Grande do Norte',\n",
    "    'RS': 'Rio Grande do Sul',\n",
    "    'RO': 'Rondônia',\n",
    "    'RR': 'Roraima',\n",
    "    'SC': 'Santa Catarina',\n",
    "    'SP': 'São Paulo',\n",
    "    'SE': 'Sergipe',\n",
    "    'TO': 'Tocantins'\n",
    "}"
   ]
  },
  {
   "cell_type": "code",
   "execution_count": 24,
   "metadata": {},
   "outputs": [
    {
     "data": {
      "text/plain": [
       "['SP']"
      ]
     },
     "execution_count": 24,
     "metadata": {},
     "output_type": "execute_result"
    }
   ],
   "source": [
    "estados = list(map(lambda x: x.replace(), list(UF_dict.values())))\n",
    "[number for number, name in UF_dict.items() if name == 'São Paulo']"
   ]
  },
  {
   "cell_type": "code",
   "execution_count": null,
   "metadata": {},
   "outputs": [],
   "source": [
    "rel['UF']=map"
   ]
  },
  {
   "cell_type": "code",
   "execution_count": 27,
   "metadata": {},
   "outputs": [
    {
     "data": {
      "text/plain": [
       "False"
      ]
     },
     "execution_count": 27,
     "metadata": {},
     "output_type": "execute_result"
    }
   ],
   "source": [
    "'ã'=='a'"
   ]
  },
  {
   "cell_type": "code",
   "execution_count": 28,
   "metadata": {},
   "outputs": [],
   "source": [
    "x = \"top\""
   ]
  },
  {
   "cell_type": "code",
   "execution_count": 29,
   "metadata": {},
   "outputs": [
    {
     "data": {
      "text/plain": [
       "'rop'"
      ]
     },
     "execution_count": 29,
     "metadata": {},
     "output_type": "execute_result"
    }
   ],
   "source": [
    "x.replace('t','r')"
   ]
  },
  {
   "cell_type": "code",
   "execution_count": 30,
   "metadata": {},
   "outputs": [
    {
     "data": {
      "text/plain": [
       "'top'"
      ]
     },
     "execution_count": 30,
     "metadata": {},
     "output_type": "execute_result"
    }
   ],
   "source": [
    "x"
   ]
  },
  {
   "cell_type": "code",
   "execution_count": null,
   "metadata": {},
   "outputs": [],
   "source": []
  },
  {
   "cell_type": "markdown",
   "metadata": {},
   "source": [
    "# 2. Explorando e conhecendo os dados"
   ]
  },
  {
   "cell_type": "code",
   "execution_count": null,
   "metadata": {},
   "outputs": [],
   "source": [
    "rel.head(2)"
   ]
  },
  {
   "cell_type": "code",
   "execution_count": null,
   "metadata": {},
   "outputs": [],
   "source": [
    "rel.info()"
   ]
  },
  {
   "cell_type": "markdown",
   "metadata": {},
   "source": [
    "<h5>Acima podemos conferir que a única informação numérica é o ano. A coluna de 'Quantidade', que também é preenchida por números, está como texto (já temos algo que precisará de nossa atenção). Explorando os dados, percebi que o separador de milhar '.', não permitiu que o número fosse reconhecido. Então utilizei a seguinte função para criar uma coluna com valores numéricos das quantidades.<h5/>"
   ]
  },
  {
   "cell_type": "code",
   "execution_count": null,
   "metadata": {},
   "outputs": [],
   "source": [
    "def converter(x):\n",
    "    l = x.split('.')\n",
    "    if len(l)>1:\n",
    "        for i, e in enumerate(l):\n",
    "            a = l[i-1]+e\n",
    "    else:\n",
    "        a=l[0]\n",
    "    return a\n",
    "rel['Qtde_numero'] = list(map(lambda x: converter(x),rel['Quantidade']))\n",
    "rel['Qtde_numero'] = list(map(lambda x: float(x), rel['Qtde_numero']))\n",
    "rel.head(1)"
   ]
  },
  {
   "cell_type": "code",
   "execution_count": null,
   "metadata": {},
   "outputs": [],
   "source": [
    "rel.info()"
   ]
  },
  {
   "cell_type": "code",
   "execution_count": null,
   "metadata": {},
   "outputs": [],
   "source": [
    "rel['Estado'].nunique()"
   ]
  },
  {
   "cell_type": "code",
   "execution_count": null,
   "metadata": {},
   "outputs": [],
   "source": [
    "rel[rel['Tipo de Resíduo']=='Óleo lubrificante usado']"
   ]
  },
  {
   "cell_type": "code",
   "execution_count": null,
   "metadata": {},
   "outputs": [],
   "source": [
    "rel['Unidade de Medida'].nunique()"
   ]
  },
  {
   "cell_type": "code",
   "execution_count": null,
   "metadata": {},
   "outputs": [],
   "source": [
    "rel['Método de Reciclagem'].nunique()"
   ]
  },
  {
   "cell_type": "code",
   "execution_count": null,
   "metadata": {},
   "outputs": [],
   "source": [
    "rel['Situação Cadastral'].nunique()"
   ]
  },
  {
   "cell_type": "markdown",
   "metadata": {},
   "source": [
    "# 3. Limpando os dados\n",
    "Aqui vamos retirar as informações que não são do nosso interesse."
   ]
  },
  {
   "cell_type": "code",
   "execution_count": null,
   "metadata": {},
   "outputs": [],
   "source": [
    "rel.drop(['CNPJ','Quantidade', 'Razão Social', 'Empresa Destinadora do Resíduo', 'Situação Cadastral'], axis=1)"
   ]
  },
  {
   "cell_type": "code",
   "execution_count": null,
   "metadata": {},
   "outputs": [],
   "source": [
    "rel.head(1)"
   ]
  },
  {
   "cell_type": "code",
   "execution_count": null,
   "metadata": {},
   "outputs": [],
   "source": [
    "plt.figure(figsize=(16,8))\n",
    "chart=sns.barplot(x=rel[rel['Tipo de Resíduo']=='Óleo lubrificante usado']['Estado'], y=rel[rel['Tipo de Resíduo']=='Óleo lubrificante usado']['Qtde_numero'], ci=None)\n",
    "chart.set_xticklabels(chart.get_xticklabels(), rotation=45)"
   ]
  },
  {
   "cell_type": "code",
   "execution_count": null,
   "metadata": {},
   "outputs": [],
   "source": []
  }
 ],
 "metadata": {
  "kernelspec": {
   "display_name": "Python 3",
   "language": "python",
   "name": "python3"
  },
  "language_info": {
   "codemirror_mode": {
    "name": "ipython",
    "version": 3
   },
   "file_extension": ".py",
   "mimetype": "text/x-python",
   "name": "python",
   "nbconvert_exporter": "python",
   "pygments_lexer": "ipython3",
   "version": "3.7.6"
  }
 },
 "nbformat": 4,
 "nbformat_minor": 4
}
